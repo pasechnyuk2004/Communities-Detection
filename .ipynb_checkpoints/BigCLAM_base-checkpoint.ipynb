{
 "cells": [
  {
   "cell_type": "code",
   "execution_count": 1,
   "metadata": {
    "collapsed": true
   },
   "outputs": [],
   "source": [
    "import numpy as np\n",
    "from math import log, exp, inf\n",
    "from scipy import optimize\n",
    "import matplotlib.pyplot as plt\n",
    "import networkx as nx"
   ]
  },
  {
   "cell_type": "code",
   "execution_count": 2,
   "metadata": {
    "collapsed": true
   },
   "outputs": [],
   "source": [
    "class Graph:\n",
    "    def __init__(self, N, K):\n",
    "        self.N = N\n",
    "        self.V = list(range(1, N+1))\n",
    "        \n",
    "        self.E = []\n",
    "        self.E_non = []\n",
    "        \n",
    "        self.F = np.random.random((N, K))\n",
    "        \n",
    "        self.K = K\n",
    "        self.C = list(range(1, K+1))\n",
    "        \n",
    "        self.colors = ['r', 'b', 'g', 'c']\n",
    "    \n",
    "    def add_edges_from(self, E):\n",
    "        self.E = E\n",
    "        \n",
    "        for u in self.V:\n",
    "            for v in self.V[u:]:\n",
    "                if (u, v) not in E:\n",
    "                    self.E_non.append([u, v, 0])\n",
    "    \n",
    "    def l(self, x):\n",
    "        x = x.reshape(len(self.V), len(self.C))\n",
    "        l = 0\n",
    "        for e in self.E:\n",
    "            u, v = e[0], e[1]\n",
    "            try:\n",
    "                l += log(1 - exp(-np.dot(x[u-1], x[v-1].T)))\n",
    "            except ValueError:\n",
    "                l += -1e3\n",
    "        for e in self.E_non:\n",
    "            u, v = e[0], e[1]\n",
    "            l -= np.dot(x[u-1], x[v-1].T)\n",
    "        return l * (-1)\n",
    "    \n",
    "    def detect_communities(self, method='BigCLAM', log=False):\n",
    "        result = optimize.minimize(self.l,self.F, method='L-BFGS-B', bounds=[(0, 1)]*(self.N*self.K))\n",
    "        if log:\n",
    "            print(result)\n",
    "        self.F = result['x'].reshape(len(self.V), len(self.C))\n",
    "        return self.F\n",
    "    \n",
    "    def visualize(self, log=False):\n",
    "        G = nx.Graph()\n",
    "\n",
    "        for v in self.V:\n",
    "            G.add_node(v)\n",
    "        for e in self.E:\n",
    "            G.add_edge(e[0], e[1], weight=e[2])\n",
    "\n",
    "        pos = nx.spring_layout(G)\n",
    "\n",
    "        for j, c in enumerate(self.C):\n",
    "            vv = []\n",
    "            for i, v in enumerate(self.F):\n",
    "                if np.argmax(v) + 1 == c:\n",
    "                    vv.append(i+1)\n",
    "            if log:\n",
    "                print(\"Community №\" + str(j+1) + \":\", \"; \".join(list(map(str, vv))))\n",
    "                \n",
    "            nx.draw_networkx_nodes(G, pos, nodelist=vv, node_size=700, node_color=self.colors[j])\n",
    "\n",
    "        nx.draw_networkx_edges(G, pos, width=2)\n",
    "        nx.draw_networkx_labels(G, pos, font_size=14, font_family='sans-serif')\n",
    "\n",
    "        plt.axis('off')\n",
    "        plt.show()"
   ]
  },
  {
   "cell_type": "code",
   "execution_count": 3,
   "metadata": {
    "collapsed": false
   },
   "outputs": [
    {
     "name": "stdout",
     "output_type": "stream",
     "text": [
      "Community №1: 16; 17; 18; 19; 20\n",
      "Community №2: 7; 8; 9; 10\n",
      "Community №3: 1; 2; 3; 4; 5; 6\n",
      "Community №4: 11; 12; 13; 14; 15\n"
     ]
    },
    {
     "data": {
      "image/png": "[encoded data removed]",
      "text/plain": [
       "<matplotlib.figure.Figure at 0x107ec8f28>"
      ]
     },
     "metadata": {},
     "output_type": "display_data"
    }
   ],
   "source": [
    "g = Graph(N=20, K=4)\n",
    "g.add_edges_from([[1, 3, 1], [4, 3, 1], [5, 4, 1], [3, 5, 1], [2, 4, 1], [2, 6, 1], [2, 4, 1], [1, 5, 1], [6, 5, 1], [6, 4, 1],\n",
    "                  [7, 4, 1], [7, 9, 1], [8, 9, 1], [7, 8, 1], [7, 10, 1], [10, 9, 1], [10, 11, 1],\n",
    "                  [11, 12, 1], [13, 12, 1], [11, 13, 1], [15, 13, 1], [15, 14, 1], [11, 14, 1], [13, 14, 1],\n",
    "                  [13, 16, 1], [16, 17, 1], [17, 18, 1], [18, 19, 1], [19, 20, 1], [20, 16, 1], [17, 19, 1]])\n",
    "\n",
    "g.detect_communities(method='BigCLAM', log=False)\n",
    "g.visualize(log=True)"
   ]
  },
  {
   "cell_type": "code",
   "execution_count": null,
   "metadata": {
    "collapsed": true
   },
   "outputs": [],
   "source": []
  }
 ],
 "metadata": {
  "anaconda-cloud": {},
  "kernelspec": {
   "display_name": "Python [default]",
   "language": "python",
   "name": "python3"
  },
  "language_info": {
   "codemirror_mode": {
    "name": "ipython",
    "version": 3
   },
   "file_extension": ".py",
   "mimetype": "text/x-python",
   "name": "python",
   "nbconvert_exporter": "python",
   "pygments_lexer": "ipython3",
   "version": "3.5.2"
  }
 },
 "nbformat": 4,
 "nbformat_minor": 2
}
